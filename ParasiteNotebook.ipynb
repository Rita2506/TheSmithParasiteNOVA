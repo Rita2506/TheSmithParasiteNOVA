{
 "cells": [
  {
   "cell_type": "markdown",
   "metadata": {},
   "source": [
    "# <center>The Smith Parasite - An Unknown Parasitic Disease</center>\n",
    "\n",
    "A new disease has recently been discovered by Dr. Smith, in England. You have been brought in to investigate.\n",
    "The disease has already affected more than 5000 people, with no apparent connection between them.\n",
    "\n",
    "The most common symptoms include fever and tiredness, but some infected people are asymptomatic. Regardless, this virus is being associated with post-disease conditions such as loss of speech, confusion, chest pain and shortness of breath.\n",
    "\n",
    "The conditions of the transmission of the disease are still unknown and there are no certainties of what leads a patient to suffer or not from it. Nonetheless, some groups of people seem more prone to be infected by the parasite than others.\n",
    "\n",
    "In this challenge, your goal is to build a predictive model that answers the question, “Who are the people more likely to suffer from the Smith Parasite?”. With that goal, you can access a small quantity of sociodemographic, health, and behavioral information obtained from the patients.\n",
    "\n",
    "As data scientists, your team is asked to analyze and transform the data available as needed and apply different models to answer the defined question in a more accurate way. Can you build a model that can predict if a patient will suffer, or not, from the Smith Disease?\n",
    "\n",
    "---\n",
    "\n",
    "### Datasets\n",
    "The training set should be used to build your machine learning models. In this set, you also have the ground truth associated to each patient, i.e., if the patient has the disease (Disease = 1) or not (Disease = 0).\n",
    "\n",
    "The test set should be used to see how well your model performs on unseen data. In this set you don’t have access to the ground truth, and the goal of your team is to predict that value (0 or 1) by using the model you created using the training set.\n",
    "\n",
    "The score of your predictions is the percentage of instances you correctly predict, using the **f1 score**.\n",
    "\n",
    "---\n",
    "\n",
    "### Deliverables\n",
    "\n",
    "You should submit a csv file with the number of instances in the test set, containing the columns [PatientID, Disease], and only those columns. <br>\n",
    "The Disease column should contain the prediction (“0” or “1”). Your last solution (the Jupiter notebook) should be submitted on Moodle.\n",
    "\n",
    "---"
   ]
  },
  {
   "cell_type": "code",
   "execution_count": 5,
   "metadata": {},
   "outputs": [],
   "source": [
    "import os\n",
    "import pandas as pd\n",
    "import numpy as np"
   ]
  },
  {
   "cell_type": "code",
   "execution_count": 17,
   "metadata": {},
   "outputs": [],
   "source": [
    "data = {dataset_name.replace('.xlsx', ''): pd.read_excel(f'Data/{dataset_name}') for dataset_name in os.listdir('Data') if 'xlsx' in dataset_name}        "
   ]
  },
  {
   "cell_type": "code",
   "execution_count": 22,
   "metadata": {},
   "outputs": [
    {
     "data": {
      "text/html": [
       "<div>\n",
       "<style scoped>\n",
       "    .dataframe tbody tr th:only-of-type {\n",
       "        vertical-align: middle;\n",
       "    }\n",
       "\n",
       "    .dataframe tbody tr th {\n",
       "        vertical-align: top;\n",
       "    }\n",
       "\n",
       "    .dataframe thead th {\n",
       "        text-align: right;\n",
       "    }\n",
       "</style>\n",
       "<table border=\"1\" class=\"dataframe\">\n",
       "  <thead>\n",
       "    <tr style=\"text-align: right;\">\n",
       "      <th></th>\n",
       "      <th>PatientID</th>\n",
       "      <th>Name</th>\n",
       "      <th>Birth_Year</th>\n",
       "      <th>Region</th>\n",
       "      <th>Education</th>\n",
       "      <th>Disease</th>\n",
       "    </tr>\n",
       "  </thead>\n",
       "  <tbody>\n",
       "    <tr>\n",
       "      <th>0</th>\n",
       "      <td>1167</td>\n",
       "      <td>Mrs. Stephanie Gay</td>\n",
       "      <td>1965</td>\n",
       "      <td>London</td>\n",
       "      <td>High School Incomplete (10th to 11th grade)</td>\n",
       "      <td>1</td>\n",
       "    </tr>\n",
       "    <tr>\n",
       "      <th>1</th>\n",
       "      <td>1805</td>\n",
       "      <td>Mr. Sherman Nero</td>\n",
       "      <td>1969</td>\n",
       "      <td>South West</td>\n",
       "      <td>High School Incomplete (10th to 11th grade)</td>\n",
       "      <td>1</td>\n",
       "    </tr>\n",
       "    <tr>\n",
       "      <th>2</th>\n",
       "      <td>1557</td>\n",
       "      <td>Mr. Mark Boller</td>\n",
       "      <td>1974</td>\n",
       "      <td>Yorkshire and the Humber</td>\n",
       "      <td>Elementary School (1st to 9th grade)</td>\n",
       "      <td>1</td>\n",
       "    </tr>\n",
       "    <tr>\n",
       "      <th>3</th>\n",
       "      <td>1658</td>\n",
       "      <td>Mr. David Caffee</td>\n",
       "      <td>1958</td>\n",
       "      <td>London</td>\n",
       "      <td>University Complete (3 or more years)</td>\n",
       "      <td>0</td>\n",
       "    </tr>\n",
       "    <tr>\n",
       "      <th>4</th>\n",
       "      <td>1544</td>\n",
       "      <td>Mr. Gerald Emery</td>\n",
       "      <td>1968</td>\n",
       "      <td>South East</td>\n",
       "      <td>University Incomplete (1 to 2 years)</td>\n",
       "      <td>1</td>\n",
       "    </tr>\n",
       "  </tbody>\n",
       "</table>\n",
       "</div>"
      ],
      "text/plain": [
       "   PatientID                Name  Birth_Year                    Region  \\\n",
       "0       1167  Mrs. Stephanie Gay        1965                    London   \n",
       "1       1805    Mr. Sherman Nero        1969                South West   \n",
       "2       1557     Mr. Mark Boller        1974  Yorkshire and the Humber   \n",
       "3       1658    Mr. David Caffee        1958                    London   \n",
       "4       1544    Mr. Gerald Emery        1968                South East   \n",
       "\n",
       "                                     Education  Disease  \n",
       "0  High School Incomplete (10th to 11th grade)        1  \n",
       "1  High School Incomplete (10th to 11th grade)        1  \n",
       "2         Elementary School (1st to 9th grade)        1  \n",
       "3        University Complete (3 or more years)        0  \n",
       "4         University Incomplete (1 to 2 years)        1  "
      ]
     },
     "execution_count": 22,
     "metadata": {},
     "output_type": "execute_result"
    }
   ],
   "source": [
    "data['train_demo'].head()"
   ]
  }
 ],
 "metadata": {
  "kernelspec": {
   "display_name": "Python 3.10.8 64-bit (microsoft store)",
   "language": "python",
   "name": "python3"
  },
  "language_info": {
   "codemirror_mode": {
    "name": "ipython",
    "version": 3
   },
   "file_extension": ".py",
   "mimetype": "text/x-python",
   "name": "python",
   "nbconvert_exporter": "python",
   "pygments_lexer": "ipython3",
   "version": "3.10.8"
  },
  "orig_nbformat": 4,
  "vscode": {
   "interpreter": {
    "hash": "8540791a84c9dd273039c82e4c4906b2f22bd80b7ff15c37ffcc5926b6e4ab9b"
   }
  }
 },
 "nbformat": 4,
 "nbformat_minor": 2
}
